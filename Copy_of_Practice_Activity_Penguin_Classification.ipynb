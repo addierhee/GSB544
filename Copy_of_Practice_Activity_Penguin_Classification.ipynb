{
  "nbformat": 4,
  "nbformat_minor": 0,
  "metadata": {
    "colab": {
      "provenance": []
    },
    "kernelspec": {
      "name": "python3",
      "display_name": "Python 3"
    },
    "language_info": {
      "name": "python"
    }
  },
  "cells": [
    {
      "cell_type": "markdown",
      "source": [
        "# Palmer Penguins Modeling\n",
        "\n",
        "Import the Palmer Penguins dataset and print out the first few rows.\n",
        "\n",
        "Suppose we want to predict `species` using the other variables in the dataset.\n",
        "\n",
        "**Dummify** all variables that require this."
      ],
      "metadata": {
        "id": "TxbDFsJARAMD"
      }
    },
    {
      "cell_type": "code",
      "execution_count": 2,
      "metadata": {
        "id": "QV2uolyOQ65C",
        "colab": {
          "base_uri": "https://localhost:8080/"
        },
        "outputId": "31279285-af42-4f45-8df4-32c518926b48"
      },
      "outputs": [
        {
          "output_type": "stream",
          "name": "stdout",
          "text": [
            "Collecting palmerpenguins\n",
            "  Downloading palmerpenguins-0.1.4-py3-none-any.whl.metadata (2.0 kB)\n",
            "Requirement already satisfied: pandas in /usr/local/lib/python3.10/dist-packages (from palmerpenguins) (2.2.2)\n",
            "Requirement already satisfied: numpy in /usr/local/lib/python3.10/dist-packages (from palmerpenguins) (1.26.4)\n",
            "Requirement already satisfied: python-dateutil>=2.8.2 in /usr/local/lib/python3.10/dist-packages (from pandas->palmerpenguins) (2.8.2)\n",
            "Requirement already satisfied: pytz>=2020.1 in /usr/local/lib/python3.10/dist-packages (from pandas->palmerpenguins) (2024.2)\n",
            "Requirement already satisfied: tzdata>=2022.7 in /usr/local/lib/python3.10/dist-packages (from pandas->palmerpenguins) (2024.2)\n",
            "Requirement already satisfied: six>=1.5 in /usr/local/lib/python3.10/dist-packages (from python-dateutil>=2.8.2->pandas->palmerpenguins) (1.16.0)\n",
            "Downloading palmerpenguins-0.1.4-py3-none-any.whl (17 kB)\n",
            "Installing collected packages: palmerpenguins\n",
            "Successfully installed palmerpenguins-0.1.4\n"
          ]
        }
      ],
      "source": [
        "# Code Here\n",
        "!pip install palmerpenguins\n",
        "from palmerpenguins import load_penguins\n",
        "\n",
        "penguins = load_penguins()\n",
        "\n",
        "penguins = penguins.dropna()\n",
        "penguins['year'] = penguins['year'].astype('object')"
      ]
    },
    {
      "cell_type": "code",
      "source": [
        "import pandas as pd\n",
        "import numpy as np\n",
        "from sklearn.pipeline import Pipeline\n",
        "from sklearn.neighbors import KNeighborsClassifier\n",
        "from sklearn.tree import DecisionTreeClassifier\n",
        "from sklearn.pipeline import Pipeline\n",
        "from sklearn.compose import make_column_selector, ColumnTransformer\n",
        "from sklearn.preprocessing import StandardScaler, OneHotEncoder, PolynomialFeatures\n",
        "from sklearn.linear_model import LinearRegression, Ridge, Lasso, ElasticNet, LogisticRegression\n",
        "from sklearn.model_selection import train_test_split, cross_val_score, GridSearchCV\n",
        "from plotnine import ggplot, aes, geom_bar, labs, theme, element_text\n",
        "from sklearn.metrics import confusion_matrix, accuracy_score, classification_report, roc_auc_score, roc_curve, auc"
      ],
      "metadata": {
        "id": "2pfy8w0lZuzw"
      },
      "execution_count": 36,
      "outputs": []
    },
    {
      "cell_type": "markdown",
      "source": [
        "Let's use the other variables to predict `species`. Prepare your data and fit the following models on the entire dataset:\n",
        "\n",
        "* Two kNN models (for different values of K)\n",
        "* Two decision tree models (for different complexities of trees)\n",
        "\n",
        "Compute the following, for each of your models, on test data. Keep in mind that you may need to stratify your creation of the training and test data.\n",
        "\n",
        "* Confusion matrix\n",
        "* Overall Accuracy\n",
        "* Precision, Recall, AUC, and F1-score for each species\n",
        "\n",
        "Create one ROC plot for the species of your choice."
      ],
      "metadata": {
        "id": "HecNBVAnRHod"
      }
    },
    {
      "cell_type": "code",
      "source": [
        "# Code Here\n",
        "## Preprocessing: One-Hot-Encode\n",
        "## Model Spec: K Nearest k = 3\n",
        "\n",
        "X = penguins.drop(\"species\", axis = 1)\n",
        "y = penguins[\"species\"]\n",
        "\n",
        "X_train, X_test, y_train, y_test = train_test_split(X, y, stratify=y, random_state = 3)\n",
        "\n",
        "ct = ColumnTransformer(\n",
        "    [\n",
        "        (\"dummify\", OneHotEncoder(sparse_output=False, handle_unknown='ignore', drop=\"first\"), make_column_selector(dtype_include=object)),\n",
        "        (\"standardize\", StandardScaler(), make_column_selector(dtype_include=np.number))\n",
        "    ],\n",
        "    remainder=\"passthrough\"\n",
        ").set_output(transform=\"pandas\")\n",
        "\n",
        "knn_model_3 = Pipeline([\n",
        "    (\"preprocessing\", ct),\n",
        "    (\"knn\", KNeighborsClassifier(n_neighbors=3))\n",
        "]).set_output(transform=\"pandas\")\n",
        "\n"
      ],
      "metadata": {
        "id": "U1onRGJQR8T_"
      },
      "execution_count": 4,
      "outputs": []
    },
    {
      "cell_type": "code",
      "source": [
        "fitted_kn_3 = knn_model_3.fit(X_train, y_train)\n",
        "preds_kn_3 = fitted_kn_3.predict(X_test)"
      ],
      "metadata": {
        "id": "zWK0TE0vZ2Aq"
      },
      "execution_count": 5,
      "outputs": []
    },
    {
      "cell_type": "code",
      "source": [
        "confusion_matrix(y_test, preds_kn_3)\n"
      ],
      "metadata": {
        "colab": {
          "base_uri": "https://localhost:8080/"
        },
        "id": "yNVMT2NJZ4X_",
        "outputId": "66c1a5a7-8d90-44bf-b63a-23a6044ccf28"
      },
      "execution_count": 6,
      "outputs": [
        {
          "output_type": "execute_result",
          "data": {
            "text/plain": [
              "array([[37,  0,  0],\n",
              "       [ 3, 14,  0],\n",
              "       [ 0,  0, 30]])"
            ]
          },
          "metadata": {},
          "execution_count": 6
        }
      ]
    },
    {
      "cell_type": "code",
      "source": [
        "scores = abs(cross_val_score(knn_model_3, X, y, cv=5, scoring='accuracy'))\n",
        "print(scores.mean())"
      ],
      "metadata": {
        "colab": {
          "base_uri": "https://localhost:8080/"
        },
        "id": "bfUzGIHtZ7PE",
        "outputId": "f67ab224-1933-4c0c-e04d-ee7ad9b2e55d"
      },
      "execution_count": 7,
      "outputs": [
        {
          "output_type": "stream",
          "name": "stdout",
          "text": [
            "0.9819990954319312\n"
          ]
        }
      ]
    },
    {
      "cell_type": "code",
      "source": [
        "print(classification_report(y_test, preds_kn_3))"
      ],
      "metadata": {
        "colab": {
          "base_uri": "https://localhost:8080/"
        },
        "id": "GPmkXqRFZ8aA",
        "outputId": "eb45f82a-2480-4e0a-b299-7848df95f08e"
      },
      "execution_count": 8,
      "outputs": [
        {
          "output_type": "stream",
          "name": "stdout",
          "text": [
            "              precision    recall  f1-score   support\n",
            "\n",
            "      Adelie       0.93      1.00      0.96        37\n",
            "   Chinstrap       1.00      0.82      0.90        17\n",
            "      Gentoo       1.00      1.00      1.00        30\n",
            "\n",
            "    accuracy                           0.96        84\n",
            "   macro avg       0.97      0.94      0.95        84\n",
            "weighted avg       0.97      0.96      0.96        84\n",
            "\n"
          ]
        }
      ]
    },
    {
      "cell_type": "code",
      "source": [
        "y_score = fitted_kn_3.predict_proba(X_test)\n",
        "auc_kn_3 = roc_auc_score(y_test, y_score, multi_class='ovr')\n",
        "auc_kn_3"
      ],
      "metadata": {
        "colab": {
          "base_uri": "https://localhost:8080/"
        },
        "id": "ztE6D49NaApn",
        "outputId": "b34d74dc-0f91-43d0-a06c-a63c4f4df336"
      },
      "execution_count": 9,
      "outputs": [
        {
          "output_type": "execute_result",
          "data": {
            "text/plain": [
              "0.9866499791405925"
            ]
          },
          "metadata": {},
          "execution_count": 9
        }
      ]
    },
    {
      "cell_type": "code",
      "source": [
        "## Model Spec: K Nearest k = 10\n",
        "\n",
        "X = penguins.drop(\"species\", axis = 1)\n",
        "y = penguins[\"species\"]\n",
        "\n",
        "ct = ColumnTransformer(\n",
        "    [\n",
        "        (\"dummify\", OneHotEncoder(sparse_output=False, handle_unknown='ignore', drop=\"first\"), make_column_selector(dtype_include=object)),\n",
        "        (\"standardize\", StandardScaler(), make_column_selector(dtype_include=np.number))\n",
        "    ],\n",
        "    remainder=\"passthrough\"\n",
        ").set_output(transform=\"pandas\")\n",
        "\n",
        "knn_model_10 = Pipeline([\n",
        "    (\"preprocessing\", ct),\n",
        "    (\"knn\", KNeighborsClassifier(n_neighbors=10))\n",
        "]).set_output(transform=\"pandas\")\n"
      ],
      "metadata": {
        "id": "piTWYioGaCxG"
      },
      "execution_count": 10,
      "outputs": []
    },
    {
      "cell_type": "code",
      "source": [
        "fitted_kn_10 = knn_model_10.fit(X_train, y_train)\n",
        "preds_kn_10 = fitted_kn_10.predict(X_test)"
      ],
      "metadata": {
        "id": "0kr-ysfWaEyg"
      },
      "execution_count": 11,
      "outputs": []
    },
    {
      "cell_type": "code",
      "source": [
        "confusion_matrix(y_test, preds_kn_10)"
      ],
      "metadata": {
        "colab": {
          "base_uri": "https://localhost:8080/"
        },
        "id": "kvi2NBZAaGlV",
        "outputId": "cb06cd39-5ffe-4fd6-87bc-6a8a480d9658"
      },
      "execution_count": 12,
      "outputs": [
        {
          "output_type": "execute_result",
          "data": {
            "text/plain": [
              "array([[37,  0,  0],\n",
              "       [ 2, 15,  0],\n",
              "       [ 0,  0, 30]])"
            ]
          },
          "metadata": {},
          "execution_count": 12
        }
      ]
    },
    {
      "cell_type": "code",
      "source": [
        "scores = abs(cross_val_score(knn_model_10, X, y, cv=5, scoring='accuracy'))\n",
        "print(scores.mean())"
      ],
      "metadata": {
        "colab": {
          "base_uri": "https://localhost:8080/"
        },
        "id": "nT07lPDvaHWy",
        "outputId": "a2a5ef9b-d878-4846-e8e6-b4cfaf5e335c"
      },
      "execution_count": 13,
      "outputs": [
        {
          "output_type": "stream",
          "name": "stdout",
          "text": [
            "0.9880144730891001\n"
          ]
        }
      ]
    },
    {
      "cell_type": "code",
      "source": [
        "print(classification_report(y_test, preds_kn_10))"
      ],
      "metadata": {
        "colab": {
          "base_uri": "https://localhost:8080/"
        },
        "id": "kA4-e-kUaJOD",
        "outputId": "c2598f39-2e8d-4568-c74f-5ca9896f3ca9"
      },
      "execution_count": 14,
      "outputs": [
        {
          "output_type": "stream",
          "name": "stdout",
          "text": [
            "              precision    recall  f1-score   support\n",
            "\n",
            "      Adelie       0.95      1.00      0.97        37\n",
            "   Chinstrap       1.00      0.88      0.94        17\n",
            "      Gentoo       1.00      1.00      1.00        30\n",
            "\n",
            "    accuracy                           0.98        84\n",
            "   macro avg       0.98      0.96      0.97        84\n",
            "weighted avg       0.98      0.98      0.98        84\n",
            "\n"
          ]
        }
      ]
    },
    {
      "cell_type": "code",
      "source": [
        "y_score = fitted_kn_10.predict_proba(X_test)\n",
        "auc_kn_10 = roc_auc_score(y_test, y_score, multi_class='ovr')\n",
        "auc_kn_10"
      ],
      "metadata": {
        "colab": {
          "base_uri": "https://localhost:8080/"
        },
        "id": "XYZoiyqLaMuh",
        "outputId": "7829d5ec-3d01-4945-b303-2e3456e1b46b"
      },
      "execution_count": 15,
      "outputs": [
        {
          "output_type": "execute_result",
          "data": {
            "text/plain": [
              "1.0"
            ]
          },
          "metadata": {},
          "execution_count": 15
        }
      ]
    },
    {
      "cell_type": "code",
      "source": [
        "## Model Spec: Decision Tree min_samples_leaf = 4\n",
        "\n",
        "X = penguins.drop(\"species\", axis=1)\n",
        "y = penguins[\"species\"]\n",
        "\n",
        "ct = ColumnTransformer(\n",
        "    [\n",
        "        (\"dummify\", OneHotEncoder(sparse_output=False, handle_unknown='ignore', drop=\"first\"), make_column_selector(dtype_include=object)),\n",
        "        (\"standardize\", StandardScaler(), make_column_selector(dtype_include=np.number))\n",
        "    ],\n",
        "    remainder=\"passthrough\"\n",
        ").set_output(transform=\"pandas\")\n",
        "\n",
        "tree_pipeline_1 = Pipeline(\n",
        "    [(\"preprocessing\", ct),\n",
        "     (\"decision_tree\", DecisionTreeClassifier(min_samples_leaf = 4, random_state=42))]\n",
        ").set_output(transform=\"pandas\")\n"
      ],
      "metadata": {
        "id": "ijZsgemOaOpd"
      },
      "execution_count": 16,
      "outputs": []
    },
    {
      "cell_type": "code",
      "source": [
        "fitted_tree_1 = tree_pipeline_1.fit(X_train, y_train)\n",
        "preds_tree_1 = fitted_tree_1.predict(X_test)"
      ],
      "metadata": {
        "id": "fu352hAzaPdy"
      },
      "execution_count": 17,
      "outputs": []
    },
    {
      "cell_type": "code",
      "source": [
        "confusion_matrix(y_test, preds_tree_1)"
      ],
      "metadata": {
        "colab": {
          "base_uri": "https://localhost:8080/"
        },
        "id": "z9dugMjeaS79",
        "outputId": "00a47e79-a91d-49a3-f713-132a34f81021"
      },
      "execution_count": 18,
      "outputs": [
        {
          "output_type": "execute_result",
          "data": {
            "text/plain": [
              "array([[36,  0,  1],\n",
              "       [ 4, 13,  0],\n",
              "       [ 0,  0, 30]])"
            ]
          },
          "metadata": {},
          "execution_count": 18
        }
      ]
    },
    {
      "cell_type": "code",
      "source": [
        "scores = abs(cross_val_score(tree_pipeline_1, X, y, cv=5, scoring='accuracy'))\n",
        "print(scores.mean())"
      ],
      "metadata": {
        "colab": {
          "base_uri": "https://localhost:8080/"
        },
        "id": "bkoUK_hgaUlJ",
        "outputId": "f29f483a-cac1-4ed5-ed1f-2bc46777852e"
      },
      "execution_count": 19,
      "outputs": [
        {
          "output_type": "stream",
          "name": "stdout",
          "text": [
            "0.9519674355495251\n"
          ]
        }
      ]
    },
    {
      "cell_type": "code",
      "source": [
        "print(classification_report(y_test, preds_tree_1))"
      ],
      "metadata": {
        "colab": {
          "base_uri": "https://localhost:8080/"
        },
        "id": "zPupmyOAaWqf",
        "outputId": "0ba77cb8-05c1-49cf-8d50-74b801ff755f"
      },
      "execution_count": 20,
      "outputs": [
        {
          "output_type": "stream",
          "name": "stdout",
          "text": [
            "              precision    recall  f1-score   support\n",
            "\n",
            "      Adelie       0.90      0.97      0.94        37\n",
            "   Chinstrap       1.00      0.76      0.87        17\n",
            "      Gentoo       0.97      1.00      0.98        30\n",
            "\n",
            "    accuracy                           0.94        84\n",
            "   macro avg       0.96      0.91      0.93        84\n",
            "weighted avg       0.94      0.94      0.94        84\n",
            "\n"
          ]
        }
      ]
    },
    {
      "cell_type": "code",
      "source": [
        "y_score = fitted_tree_1.predict_proba(X_test)\n",
        "auc_tree_1 = roc_auc_score(y_test, y_score, multi_class='ovr')\n",
        "auc_tree_1"
      ],
      "metadata": {
        "colab": {
          "base_uri": "https://localhost:8080/"
        },
        "id": "1OeQCoyVaYdV",
        "outputId": "0a66a2d7-4db8-4ebd-b256-8c6a836aee39"
      },
      "execution_count": 21,
      "outputs": [
        {
          "output_type": "execute_result",
          "data": {
            "text/plain": [
              "0.9768341916471731"
            ]
          },
          "metadata": {},
          "execution_count": 21
        }
      ]
    },
    {
      "cell_type": "code",
      "source": [
        "## Model Spec: Decision Tree min_samples_leaf = 20\n",
        "\n",
        "X = penguins.drop(\"species\", axis=1)\n",
        "y = penguins[\"species\"]\n",
        "\n",
        "ct = ColumnTransformer(\n",
        "    [\n",
        "        (\"dummify\", OneHotEncoder(sparse_output=False, handle_unknown='ignore', drop=\"first\"), make_column_selector(dtype_include=object)),\n",
        "        (\"standardize\", StandardScaler(), make_column_selector(dtype_include=np.number))\n",
        "    ],\n",
        "    remainder=\"passthrough\"\n",
        ").set_output(transform=\"pandas\")\n",
        "\n",
        "tree_pipeline_2 = Pipeline(\n",
        "    [(\"preprocessing\", ct),\n",
        "     (\"decision_tree\", DecisionTreeClassifier(min_samples_leaf = 20, random_state=42))]\n",
        ").set_output(transform=\"pandas\")\n",
        "\n"
      ],
      "metadata": {
        "id": "kYDIGSDPaavK"
      },
      "execution_count": 22,
      "outputs": []
    },
    {
      "cell_type": "code",
      "source": [
        "fitted_tree_2 = tree_pipeline_2.fit(X_train, y_train)\n",
        "preds_tree_2 = fitted_tree_2.predict(X_test)"
      ],
      "metadata": {
        "id": "1aeQUoAhacrn"
      },
      "execution_count": 23,
      "outputs": []
    },
    {
      "cell_type": "code",
      "source": [
        "confusion_matrix(y_test, preds_tree_2)"
      ],
      "metadata": {
        "colab": {
          "base_uri": "https://localhost:8080/"
        },
        "id": "bpI0Zatiafxz",
        "outputId": "aa9d5b18-6281-4dfc-9ced-7c8d0a638392"
      },
      "execution_count": 24,
      "outputs": [
        {
          "output_type": "execute_result",
          "data": {
            "text/plain": [
              "array([[36,  0,  1],\n",
              "       [ 4, 13,  0],\n",
              "       [ 0,  0, 30]])"
            ]
          },
          "metadata": {},
          "execution_count": 24
        }
      ]
    },
    {
      "cell_type": "code",
      "source": [
        "scores = abs(cross_val_score(tree_pipeline_2, X, y, cv=5, scoring='accuracy'))\n",
        "print(scores.mean())"
      ],
      "metadata": {
        "colab": {
          "base_uri": "https://localhost:8080/"
        },
        "id": "y53PZ68Pah6h",
        "outputId": "cce54eab-6beb-459e-93db-42a66fff215c"
      },
      "execution_count": 25,
      "outputs": [
        {
          "output_type": "stream",
          "name": "stdout",
          "text": [
            "0.9368159203980099\n"
          ]
        }
      ]
    },
    {
      "cell_type": "code",
      "source": [
        "print(classification_report(y_test, preds_tree_2))"
      ],
      "metadata": {
        "colab": {
          "base_uri": "https://localhost:8080/"
        },
        "id": "8gj-bDK2ajiL",
        "outputId": "69059f6f-96e2-4b9b-9099-2ba8813c7fc6"
      },
      "execution_count": 26,
      "outputs": [
        {
          "output_type": "stream",
          "name": "stdout",
          "text": [
            "              precision    recall  f1-score   support\n",
            "\n",
            "      Adelie       0.90      0.97      0.94        37\n",
            "   Chinstrap       1.00      0.76      0.87        17\n",
            "      Gentoo       0.97      1.00      0.98        30\n",
            "\n",
            "    accuracy                           0.94        84\n",
            "   macro avg       0.96      0.91      0.93        84\n",
            "weighted avg       0.94      0.94      0.94        84\n",
            "\n"
          ]
        }
      ]
    },
    {
      "cell_type": "code",
      "source": [
        "y_score = fitted_tree_2.predict_proba(X_test)\n",
        "auc_tree_2 = roc_auc_score(y_test, y_score, multi_class='ovr')\n",
        "auc_tree_2"
      ],
      "metadata": {
        "colab": {
          "base_uri": "https://localhost:8080/"
        },
        "id": "gUS6HwBcalhg",
        "outputId": "c5247010-2a47-4fa9-f8c8-340d47a996df"
      },
      "execution_count": 27,
      "outputs": [
        {
          "output_type": "execute_result",
          "data": {
            "text/plain": [
              "0.9701946354268806"
            ]
          },
          "metadata": {},
          "execution_count": 27
        }
      ]
    },
    {
      "cell_type": "code",
      "source": [
        "from sklearn.preprocessing import label_binarize\n",
        "\n",
        "#binarize\n",
        "species_names = ['Adelie', 'Chinstrap', 'Gentoo']\n",
        "y_bin = label_binarize(y, classes=species_names)\n",
        "y_test_bin = label_binarize(y_test, classes=species_names)\n",
        "\n",
        "#extract the column corresponding to 'Adelie'\n",
        "idx_adelie = species_names.index('Adelie')\n",
        "y_bin_adelie = y_bin[:, idx_adelie]\n",
        "y_test_bin_adelie = y_test_bin[:, idx_adelie]"
      ],
      "metadata": {
        "id": "nLAQf37Uanrk"
      },
      "execution_count": 28,
      "outputs": []
    },
    {
      "cell_type": "code",
      "source": [
        "#compute ROC metrics for kn_pipeline_1\n",
        "y_score_adelie_kn3 = fitted_kn_3.predict_proba(X_test)[:, idx_adelie]\n",
        "fpr_adelie_kn3, tpr_adelie_kn3, _ = roc_curve(y_test_bin_adelie, y_score_adelie_kn3)\n",
        "roc_auc_adelie_kn3 = auc(fpr_adelie_kn3, tpr_adelie_kn3)\n",
        "\n",
        "#compute ROC metrics for kn_pipeline_2\n",
        "y_score_adelie_kn10 = fitted_kn_10.predict_proba(X_test)[:, idx_adelie]\n",
        "fpr_adelie_kn10, tpr_adelie_kn10, _ = roc_curve(y_test_bin_adelie, y_score_adelie_kn10)\n",
        "roc_auc_adelie_kn10 = auc(fpr_adelie_kn10, tpr_adelie_kn10)\n",
        "\n",
        "#compute ROC metrics for dtree_pipeline_1\n",
        "y_score_adelie_t1 = fitted_tree_1.predict_proba(X_test)[:, idx_adelie]\n",
        "fpr_adelie_t1, tpr_adelie_t1, _ = roc_curve(y_test_bin_adelie, y_score_adelie_t1)\n",
        "roc_auc_adelie_t1 = auc(fpr_adelie_t1, tpr_adelie_t1)\n",
        "\n",
        "#compute ROC metrics for dtree_pipeline_2\n",
        "y_score_adelie_t2 = fitted_tree_2.predict_proba(X_test)[:, idx_adelie]\n",
        "fpr_adelie_t2, tpr_adelie_t2, _ = roc_curve(y_test_bin_adelie, y_score_adelie_t2)\n",
        "roc_auc_adelie_t2 = auc(fpr_adelie_t2, tpr_adelie_t2)"
      ],
      "metadata": {
        "id": "8VfGsssYaonb"
      },
      "execution_count": 38,
      "outputs": []
    },
    {
      "cell_type": "code",
      "source": [
        "data_roc = pd.DataFrame({\n",
        "    'FPR': np.concatenate([fpr_adelie_kn3, fpr_adelie_kn10, fpr_adelie_t1, fpr_adelie_t2]),\n",
        "    'TPR': np.concatenate([tpr_adelie_kn3, tpr_adelie_kn10, tpr_adelie_t1, tpr_adelie_t2]),\n",
        "    'Model': ['KNN k=3'] * len(fpr_adelie_kn3) + ['KNN k=10'] * len(fpr_adelie_kn10) +\n",
        "             ['Decision Tree Leaf=4'] * len(fpr_adelie_t1) + ['Decision Tree Leaf=20'] * len(fpr_adelie_t2)\n",
        "})"
      ],
      "metadata": {
        "id": "cLEzaRpNaswA"
      },
      "execution_count": 39,
      "outputs": []
    },
    {
      "cell_type": "code",
      "source": [
        "from plotnine import ggplot, aes, geom_line, geom_abline, labs, theme_bw, scale_color_manual\n",
        "\n",
        "(ggplot(data_roc, aes(x='FPR', y='TPR', color='Model')) +\n",
        "    geom_line() + geom_abline(linetype='dashed', color='navy') +\n",
        "    labs(title='ROC Plot for Adelie Species',\n",
        "         x='False Positive Rate',\n",
        "         y='True Positive Rate') +\n",
        "    theme_bw() +\n",
        "    scale_color_manual(values=['darkorange', 'green', 'blue', 'red'])\n",
        ")"
      ],
      "metadata": {
        "colab": {
          "base_uri": "https://localhost:8080/",
          "height": 497
        },
        "id": "nXy2L1U1aw7L",
        "outputId": "0700d895-e867-41e6-88f9-08cf88ea5ec6"
      },
      "execution_count": 40,
      "outputs": [
        {
          "output_type": "display_data",
          "data": {
            "image/png": "[encoded data removed]"
          },
          "metadata": {
            "image/png": {
              "width": 640,
              "height": 480
            }
          }
        }
      ]
    }
  ]
}