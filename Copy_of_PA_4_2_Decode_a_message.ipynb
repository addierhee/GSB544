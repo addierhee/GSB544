{
  "cells": [
    {
      "cell_type": "markdown",
      "metadata": {
        "id": "view-in-github",
        "colab_type": "text"
      },
      "source": [
        "<a href=\"https://colab.research.google.com/github/addierhee/GSB544/blob/main/Copy_of_PA_4_2_Decode_a_message.ipynb\" target=\"_parent\"><img src=\"https://colab.research.google.com/assets/colab-badge.svg\" alt=\"Open In Colab\"/></a>"
      ]
    },
    {
      "cell_type": "markdown",
      "metadata": {
        "id": "kPj76X_FP2uq"
      },
      "source": [
        "## Setup\n",
        "\n",
        "Run the code below to load the scrambled message:\n"
      ]
    },
    {
      "cell_type": "code",
      "metadata": {
        "id": "YwkYMR2qP2ur"
      },
      "source": [
        "import pandas as pd\n",
        "\n",
        "message = pd.read_csv(\"https://www.dropbox.com/s/lgpn3vmksk3ssdo/scrambled_message.txt?dl=1\")['Word']"
      ],
      "execution_count": 45,
      "outputs": []
    },
    {
      "cell_type": "code",
      "source": [
        "message"
      ],
      "metadata": {
        "id": "rqykaCOxF1Z9",
        "outputId": "e1108bf7-9648-4f55-c9ba-eac9803b070c",
        "colab": {
          "base_uri": "https://localhost:8080/",
          "height": 458
        }
      },
      "execution_count": 4,
      "outputs": [
        {
          "output_type": "execute_result",
          "data": {
            "text/plain": [
              "0                    Koila!\n",
              "1                     In   \n",
              "2                     kiew,\n",
              "3                         a\n",
              "4                 humble   \n",
              "               ...         \n",
              "122                     you\n",
              "123                 mabugh.\n",
              "124              ughhh?call\n",
              "125        meugh.ughhhh!   \n",
              "126                      K.\n",
              "Name: Word, Length: 127, dtype: object"
            ],
            "text/html": [
              "<div>\n",
              "<style scoped>\n",
              "    .dataframe tbody tr th:only-of-type {\n",
              "        vertical-align: middle;\n",
              "    }\n",
              "\n",
              "    .dataframe tbody tr th {\n",
              "        vertical-align: top;\n",
              "    }\n",
              "\n",
              "    .dataframe thead th {\n",
              "        text-align: right;\n",
              "    }\n",
              "</style>\n",
              "<table border=\"1\" class=\"dataframe\">\n",
              "  <thead>\n",
              "    <tr style=\"text-align: right;\">\n",
              "      <th></th>\n",
              "      <th>Word</th>\n",
              "    </tr>\n",
              "  </thead>\n",
              "  <tbody>\n",
              "    <tr>\n",
              "      <th>0</th>\n",
              "      <td>Koila!</td>\n",
              "    </tr>\n",
              "    <tr>\n",
              "      <th>1</th>\n",
              "      <td>In</td>\n",
              "    </tr>\n",
              "    <tr>\n",
              "      <th>2</th>\n",
              "      <td>kiew,</td>\n",
              "    </tr>\n",
              "    <tr>\n",
              "      <th>3</th>\n",
              "      <td>a</td>\n",
              "    </tr>\n",
              "    <tr>\n",
              "      <th>4</th>\n",
              "      <td>humble</td>\n",
              "    </tr>\n",
              "    <tr>\n",
              "      <th>...</th>\n",
              "      <td>...</td>\n",
              "    </tr>\n",
              "    <tr>\n",
              "      <th>122</th>\n",
              "      <td>you</td>\n",
              "    </tr>\n",
              "    <tr>\n",
              "      <th>123</th>\n",
              "      <td>mabugh.</td>\n",
              "    </tr>\n",
              "    <tr>\n",
              "      <th>124</th>\n",
              "      <td>ughhh?call</td>\n",
              "    </tr>\n",
              "    <tr>\n",
              "      <th>125</th>\n",
              "      <td>meugh.ughhhh!</td>\n",
              "    </tr>\n",
              "    <tr>\n",
              "      <th>126</th>\n",
              "      <td>K.</td>\n",
              "    </tr>\n",
              "  </tbody>\n",
              "</table>\n",
              "<p>127 rows × 1 columns</p>\n",
              "</div><br><label><b>dtype:</b> object</label>"
            ]
          },
          "metadata": {},
          "execution_count": 4
        }
      ]
    },
    {
      "cell_type": "markdown",
      "metadata": {
        "id": "cI8ZE3LAP2us"
      },
      "source": [
        "In this activity, a \"word\" refers to any set of characters with no white space, even though they are not truly an English word.  That is, even though many of elements of the scrambled message vector are nonsense, and some have punctuation, you can consider each element to be a \"word\".\n",
        "\n",
        "Beware!  The object named `message` is a **pandas Series** of strings.  If you want to use functions that expect a string, rather than a series, remember `.apply()` and `lambda` functions.\n",
        "\n"
      ]
    },
    {
      "cell_type": "markdown",
      "source": [
        "\n",
        "## Warm-up exercises\n",
        "\n",
        "1. How many characters are in the scrambled message?\n",
        "2. How many of these characters are white space?\n",
        "3. How many words are in the scrambled message?\n",
        "4. Show all the punctuation marks in the scrambled message.\n",
        "5. Print out, in all capitals, the longest word in the scrambled message.\n",
        "6. Print out every piece of a word that starts with the letter \"m\" and ends with the letter \"z\" in the scrambled message."
      ],
      "metadata": {
        "id": "dYISAD8uQLAy"
      }
    },
    {
      "cell_type": "code",
      "source": [
        "# How many characters are in the scrambled message?\n",
        "\n",
        "len(''.join(message))"
      ],
      "metadata": {
        "id": "6vB1tbjiQNvE",
        "colab": {
          "base_uri": "https://localhost:8080/"
        },
        "outputId": "4e530233-1cfb-436f-d4f4-7b8340a85e6e"
      },
      "execution_count": 5,
      "outputs": [
        {
          "output_type": "execute_result",
          "data": {
            "text/plain": [
              "2544"
            ]
          },
          "metadata": {},
          "execution_count": 5
        }
      ]
    },
    {
      "cell_type": "code",
      "source": [
        "#How many of these characters are white space?\n",
        "import re\n",
        "combined_message = ' '.join(message)\n",
        "x = re.findall(r\"\\s\", combined_message)\n",
        "len(x)"
      ],
      "metadata": {
        "colab": {
          "base_uri": "https://localhost:8080/"
        },
        "id": "3MH1A76nDoMV",
        "outputId": "bf5f8c0a-acf5-4e93-cdfc-1fd36d07efa5"
      },
      "execution_count": 6,
      "outputs": [
        {
          "output_type": "execute_result",
          "data": {
            "text/plain": [
              "1778"
            ]
          },
          "metadata": {},
          "execution_count": 6
        }
      ]
    },
    {
      "cell_type": "code",
      "source": [
        "# How many words are in the scrambled message?\n",
        "\n",
        "len(message)"
      ],
      "metadata": {
        "colab": {
          "base_uri": "https://localhost:8080/"
        },
        "id": "PwxueO2ODrhW",
        "outputId": "b3bc1851-32cb-4df8-d3f2-4e97be00ac57"
      },
      "execution_count": 7,
      "outputs": [
        {
          "output_type": "execute_result",
          "data": {
            "text/plain": [
              "127"
            ]
          },
          "metadata": {},
          "execution_count": 7
        }
      ]
    },
    {
      "cell_type": "code",
      "source": [
        "#Show all the punctuation marks in the scrambled message.\n",
        "\n",
        "punctuation = re.findall(r\"[^\\w\\s]\", combined_message)\n",
        "punctuation\n"
      ],
      "metadata": {
        "colab": {
          "base_uri": "https://localhost:8080/"
        },
        "id": "tFg5C7HhD2QS",
        "outputId": "8407abdc-09e6-4816-b60d-da4c7bba0435"
      },
      "execution_count": 8,
      "outputs": [
        {
          "output_type": "execute_result",
          "data": {
            "text/plain": [
              "['!',\n",
              " ',',\n",
              " '?',\n",
              " ',',\n",
              " '!',\n",
              " '!',\n",
              " '.',\n",
              " '!',\n",
              " ',',\n",
              " '!',\n",
              " '?',\n",
              " '?',\n",
              " '?',\n",
              " '?',\n",
              " '?',\n",
              " ',',\n",
              " '?',\n",
              " '!',\n",
              " ',',\n",
              " '.',\n",
              " '?',\n",
              " ',',\n",
              " ',',\n",
              " '!',\n",
              " '.',\n",
              " '!',\n",
              " '?',\n",
              " '!',\n",
              " '!',\n",
              " ',',\n",
              " '.',\n",
              " '?',\n",
              " '?',\n",
              " '?',\n",
              " '.',\n",
              " '?',\n",
              " '?',\n",
              " '.',\n",
              " '.',\n",
              " ';',\n",
              " '?',\n",
              " ',',\n",
              " '!',\n",
              " '!',\n",
              " ',',\n",
              " '.',\n",
              " '?',\n",
              " '.',\n",
              " '?',\n",
              " '.',\n",
              " '!',\n",
              " '!',\n",
              " '.',\n",
              " '!',\n",
              " '!',\n",
              " '?',\n",
              " ',',\n",
              " '!',\n",
              " '?',\n",
              " '.',\n",
              " '!',\n",
              " '!',\n",
              " '!',\n",
              " '.',\n",
              " '?',\n",
              " '.',\n",
              " '!',\n",
              " '.']"
            ]
          },
          "metadata": {},
          "execution_count": 8
        }
      ]
    },
    {
      "cell_type": "code",
      "source": [
        "longest_word = message.apply(len).idxmax()  # Find the index of the longest word\n",
        "print(message[longest_word].upper())  # Print it in uppercase\n"
      ],
      "metadata": {
        "colab": {
          "base_uri": "https://localhost:8080/"
        },
        "id": "nOBYtHQiKvpK",
        "outputId": "a2343244-bbbd-477d-8b0f-34a082e8a297"
      },
      "execution_count": 9,
      "outputs": [
        {
          "output_type": "stream",
          "name": "stdout",
          "text": [
            "KAUDEVILLIANUGH?AOGHAJDBN\n"
          ]
        }
      ]
    },
    {
      "cell_type": "code",
      "source": [
        "words_m_z = message[message.str.match(r\"^m.*z$\")]\n",
        "print(words_m_z)"
      ],
      "metadata": {
        "colab": {
          "base_uri": "https://localhost:8080/"
        },
        "id": "DAKdhs0cK0Vc",
        "outputId": "9b06b0ad-017b-4b6d-ddc6-81b8f82f4ebc"
      },
      "execution_count": 10,
      "outputs": [
        {
          "output_type": "stream",
          "name": "stdout",
          "text": [
            "Series([], Name: Word, dtype: object)\n"
          ]
        }
      ]
    },
    {
      "cell_type": "markdown",
      "source": [
        "\n",
        "\n",
        "## Decode a message\n",
        "\n",
        "Complete the following steps to decode the message.  \n",
        "\n",
        "1. Remove any spaces before or after each word.\n",
        "2. Any time you see the word \"ugh\", with any number of h's, followed by a punctuation mark, delete this.\n",
        "3. No word should be longer than 16 characters. Drop all extra characters beyond 13 off the end of each word.\n",
        "4. Replace all instances of exactly 2 a's with exactly 2 e's.\n",
        "5. Replace all z's with t's.\n",
        "6. Every word that ends in b, change that to a y.  *Hint: look out for punctuation!*\n",
        "7. Every word that starts with k, change that to a v.  *Hint: look out for capitalization!*\n",
        "8. Use `.join()` to recombine all your words into a message.\n",
        "9. Find the movie this quote is from."
      ],
      "metadata": {
        "id": "l3iJnnCJQOh7"
      }
    },
    {
      "cell_type": "code",
      "source": [
        "message_cleaned = message.str.strip()\n"
      ],
      "metadata": {
        "id": "EGyolvt-LGO-"
      },
      "execution_count": 46,
      "outputs": []
    },
    {
      "cell_type": "code",
      "source": [
        "message_cleaned = message_cleaned.str.replace(r\"ugh+h?[^\\w\\s]\", \"\", regex=True)\n"
      ],
      "metadata": {
        "id": "CUO0IzF6LKt7"
      },
      "execution_count": 47,
      "outputs": []
    },
    {
      "cell_type": "code",
      "source": [
        "message_cleaned = message_cleaned.apply(lambda word: word[:12])\n"
      ],
      "metadata": {
        "id": "hPuwbVAwLUen"
      },
      "execution_count": 48,
      "outputs": []
    },
    {
      "cell_type": "code",
      "source": [
        "message_cleaned = message_cleaned.str.replace(\"aa\", \"ee\")\n"
      ],
      "metadata": {
        "id": "WKWNO6nBNCtU"
      },
      "execution_count": 49,
      "outputs": []
    },
    {
      "cell_type": "code",
      "source": [
        "message_cleaned = message_cleaned.str.replace(\"z\", \"t\")\n"
      ],
      "metadata": {
        "id": "6ycxNV-MNEek"
      },
      "execution_count": 50,
      "outputs": []
    },
    {
      "cell_type": "code",
      "source": [
        "message_cleaned = message_cleaned.str.replace(r\"b\\b\", \"y\", regex=True)\n"
      ],
      "metadata": {
        "id": "Dgli7usaNGIj"
      },
      "execution_count": 51,
      "outputs": []
    },
    {
      "cell_type": "code",
      "source": [
        "message_cleaned = message_cleaned.str.replace(r\"\\bK\", \"V\", regex=True)  # Replace uppercase 'K' with 'V'\n",
        "message_cleaned = message_cleaned.str.replace(r\"\\bk\", \"v\", regex=True)  # Replace lowercase 'k' with 'v'\n"
      ],
      "metadata": {
        "id": "LUzDVXAgNI9i"
      },
      "execution_count": 52,
      "outputs": []
    },
    {
      "cell_type": "code",
      "source": [
        "decoded_message = ' '.join(message_cleaned)\n",
        "print(decoded_message)\n"
      ],
      "metadata": {
        "colab": {
          "base_uri": "https://localhost:8080/"
        },
        "id": "xNgjOErSNMWK",
        "outputId": "589b03db-1077-4afa-9bba-4e6f84404d76"
      },
      "execution_count": 53,
      "outputs": [
        {
          "output_type": "stream",
          "name": "stdout",
          "text": [
            "Voila! In view, a humble vaudevillian veteran, cast vicariously as both victim and villain by the vicissitudes of fate. This visage, no mere veneer of vanity, is a vestige of the vox populi now vacant, vanished. However, this valorous visitation of a bygone vexation stands vivified, and has vowed to vanquish these venal and virulent vermin, van guarding vice and vouchsafing the violently vicious and voracious violation of volition. The only verdict is vengeance; a vendetta, held as a votive not in vain, for the value and veracity of such shall one day vindicate the vigilant and the virtuous. Verily this vichyssoise of verbiage veers most verbose, so let me simply add that its my very good honour to meet you and you may call me V.\n"
          ]
        }
      ]
    },
    {
      "cell_type": "markdown",
      "source": [
        "Voila! In view, a humble vaudevillian veteran, cast vicariously as both victim and villain by the vicissitudes of fate. This visage, no mere veneer of vanity, is a vestige of the vox populi now vacant, vanished. However, this valorous visitation of a bygone vexation stands vivified, and has vowed to vanquish these venal and virulent vermin, van guarding vice and vouchsafing the violently vicious and voracious violation of volition. The only verdict is vengeance; a vendetta, held as a votive not in vain, for the value and veracity of such shall one day vindicate the vigilant and the virtuous. Verily this vichyssoise of verbiage veers most verbose, so let me simply add that its my very good honour to meet you and you may call me V."
      ],
      "metadata": {
        "id": "XCzkKoqiN06b"
      }
    }
  ],
  "metadata": {
    "kernelspec": {
      "display_name": "Python 3",
      "language": "python",
      "name": "python3"
    },
    "colab": {
      "provenance": [],
      "include_colab_link": true
    }
  },
  "nbformat": 4,
  "nbformat_minor": 0
}